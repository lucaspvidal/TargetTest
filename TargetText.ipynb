{
 "cells": [
  {
   "cell_type": "code",
   "execution_count": 1,
   "metadata": {},
   "outputs": [
    {
     "name": "stdout",
     "output_type": "stream",
     "text": [
      "1\n",
      "3\n",
      "6\n",
      "10\n",
      "15\n",
      "21\n",
      "28\n",
      "36\n",
      "45\n",
      "55\n",
      "66\n",
      "78\n",
      "91\n"
     ]
    }
   ],
   "source": [
    "### Exercicio 1 ###\n",
    "\n",
    "indice = 13\n",
    "soma = 0\n",
    "K = 0\n",
    "while K < indice: \n",
    "    K += 1\n",
    "    soma = soma + K\n",
    "    print(soma)"
   ]
  },
  {
   "cell_type": "code",
   "execution_count": 2,
   "metadata": {},
   "outputs": [
    {
     "name": "stdout",
     "output_type": "stream",
     "text": [
      "O número 21 pertence a sequecia de Fibonacci\n"
     ]
    }
   ],
   "source": [
    "### Exercicio 2 ### sequência de Fibonacci\n",
    "\n",
    "numero = int(input(\"Digite um número inteiro:\"))\n",
    "fibonacci = [0, 1]\n",
    "\n",
    "while len(fibonacci) < numero:\n",
    "    proximo_numero = fibonacci[-1] + fibonacci[-2]\n",
    "    fibonacci.append(proximo_numero)\n",
    "if numero in fibonacci:\n",
    "    print(\"O número {} pertence a sequecia de Fibonacci\".format(numero))\n",
    "else:\n",
    "     print(\"O número {} não pertence a sequecia de Fibonacci\".format(numero))\n"
   ]
  },
  {
   "cell_type": "code",
   "execution_count": 3,
   "metadata": {},
   "outputs": [
    {
     "name": "stdout",
     "output_type": "stream",
     "text": [
      "[ 537 3892 3307 2250 2221 4307  521 3517 1087  561 2679 4880 3705 3829\n",
      " 3615 3951 2614  727 4214 2306 2551 1916  994 4641 3929 3254 2071 4131\n",
      " 2772 2272]\n"
     ]
    }
   ],
   "source": [
    "### Exercicio 3 ###\n",
    "\n",
    "### Gerar um banco de dados ###\n",
    "import numpy as np\n",
    "rng = np.random.default_rng(seed=42)\n",
    "\n",
    "faturamento_diario = rng.integers(low=100 , high=5000, size=30)\n",
    "print(faturamento_diario)\n"
   ]
  },
  {
   "cell_type": "code",
   "execution_count": 4,
   "metadata": {},
   "outputs": [
    {
     "name": "stdout",
     "output_type": "stream",
     "text": [
      "O maior valor de faturamento diário foi de R$4880 e o menor foi de R$521\n"
     ]
    }
   ],
   "source": [
    "maior_valor_faturamento = np.max(faturamento_diario)\n",
    "menor_valor_faturamento = np.min(faturamento_diario)\n",
    "print(\"O maior valor de faturamento diário foi de R${} e o menor foi de R${}\".format(maior_valor_faturamento, menor_valor_faturamento))"
   ]
  },
  {
   "cell_type": "code",
   "execution_count": 30,
   "metadata": {},
   "outputs": [
    {
     "name": "stdout",
     "output_type": "stream",
     "text": [
      "180812.45\n",
      "O faturamento percentual da cidade de SP foi de 37.52%\n",
      "O faturamento percentual da cidade de RJ foi de 20.29%\n",
      "O faturamento percentual da cidade de MG foi de 16.17%\n",
      "O faturamento percentual da cidade de ES foi de 15.02%\n",
      "O faturamento percentual da cidade de Outros foi de 10.98%\n"
     ]
    },
    {
     "ename": "IndexError",
     "evalue": "list index out of range",
     "output_type": "error",
     "traceback": [
      "\u001b[1;31m---------------------------------------------------------------------------\u001b[0m",
      "\u001b[1;31mIndexError\u001b[0m                                Traceback (most recent call last)",
      "Cell \u001b[1;32mIn[30], line 15\u001b[0m\n\u001b[0;32m     13\u001b[0m \u001b[38;5;28;01mfor\u001b[39;00m i, faturamento \u001b[38;5;129;01min\u001b[39;00m \u001b[38;5;28menumerate\u001b[39m(faturamento_mensal):\n\u001b[0;32m     14\u001b[0m     faturamento_percentual \u001b[38;5;241m=\u001b[39m faturamento_mensal \u001b[38;5;241m/\u001b[39m (faturamento_mensal_distribuidora \u001b[38;5;241m/\u001b[39m \u001b[38;5;241m100\u001b[39m)\n\u001b[1;32m---> 15\u001b[0m     \u001b[38;5;28mprint\u001b[39m(\u001b[38;5;124mf\u001b[39m\u001b[38;5;124m\"\u001b[39m\u001b[38;5;124mO faturamento percentual da cidade de \u001b[39m\u001b[38;5;132;01m{\u001b[39;00mestados[i]\u001b[38;5;132;01m}\u001b[39;00m\u001b[38;5;124m foi de \u001b[39m\u001b[38;5;132;01m{\u001b[39;00mfaturamento_percentual[i]\u001b[38;5;132;01m:\u001b[39;00m\u001b[38;5;124m.2f\u001b[39m\u001b[38;5;132;01m}\u001b[39;00m\u001b[38;5;124m%\u001b[39m\u001b[38;5;124m\"\u001b[39m)\n",
      "\u001b[1;31mIndexError\u001b[0m: list index out of range"
     ]
    }
   ],
   "source": [
    "### Exercicio 4 ###\n",
    "\n",
    "#SP R$67.836,43\n",
    "#RJ R$36.678,66\n",
    "#MG R$29.229,88\n",
    "#ES R$27.165,48\n",
    "#Outros R$19.849,53\n",
    "\n",
    "estados = [\"SP\", \"RJ\", \"MG\", \"ES\", \"Outros\"]\n",
    "faturamento_mensal = [67836.43, 36678.66, 29229.88, 27165.48, 19849,53]\n",
    "faturamento_mensal_distribuidora =  np.sum(faturamento_mensal)\n",
    "\n",
    "\n",
    "for i, faturamento in enumerate(faturamento_mensal):\n",
    "    faturamento_percentual = faturamento_mensal / (faturamento_mensal_distribuidora / 100)\n",
    "    print(f\"O faturamento percentual da cidade de {estados[i]} foi de {faturamento_percentual[i]:.2f}%\")"
   ]
  },
  {
   "cell_type": "code",
   "execution_count": 19,
   "metadata": {},
   "outputs": [
    {
     "name": "stdout",
     "output_type": "stream",
     "text": [
      "ocsav\n",
      "ocsav\n"
     ]
    }
   ],
   "source": [
    "### Exercicio 5 ###\n",
    "\n",
    "\n",
    "palavra = input(\"Digite uma palavra:\")\n",
    "\n",
    "palavra_invertida_1 = palavra[::-1]\n",
    "print(palavra_invertida_1)\n",
    "\n",
    "palavra_invertida_2 = ''\n",
    "for i in range(len(palavra)-1,-1,-1):\n",
    "    palavra_invertida_2 = palavra_invertida_2 + palavra[i]\n",
    "print(palavra_invertida_2)"
   ]
  },
  {
   "cell_type": "code",
   "execution_count": null,
   "metadata": {},
   "outputs": [],
   "source": []
  }
 ],
 "metadata": {
  "kernelspec": {
   "display_name": "base",
   "language": "python",
   "name": "python3"
  },
  "language_info": {
   "codemirror_mode": {
    "name": "ipython",
    "version": 3
   },
   "file_extension": ".py",
   "mimetype": "text/x-python",
   "name": "python",
   "nbconvert_exporter": "python",
   "pygments_lexer": "ipython3",
   "version": "3.11.7"
  }
 },
 "nbformat": 4,
 "nbformat_minor": 2
}
