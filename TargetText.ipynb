{
 "cells": [
  {
   "cell_type": "code",
   "execution_count": 1,
   "metadata": {},
   "outputs": [
    {
     "name": "stdout",
     "output_type": "stream",
     "text": [
      "91\n"
     ]
    }
   ],
   "source": [
    "### Exercicio 1 ###\n",
    "\n",
    "indice = 13\n",
    "soma = 0\n",
    "K = 0\n",
    "while K < indice: \n",
    "    K += 1\n",
    "    soma = soma + K\n",
    "print(soma)"
   ]
  },
  {
   "cell_type": "code",
   "execution_count": 2,
   "metadata": {},
   "outputs": [
    {
     "name": "stdout",
     "output_type": "stream",
     "text": [
      "O número 21 pertence a sequecia de Fibonacci\n"
     ]
    }
   ],
   "source": [
    "### Exercicio 2 ### sequência de Fibonacci\n",
    "\n",
    "numero = int(input(\"Digite um número inteiro:\"))\n",
    "fibonacci = [0, 1]\n",
    "\n",
    "while len(fibonacci) < numero:\n",
    "    proximo_numero = fibonacci[-1] + fibonacci[-2]\n",
    "    fibonacci.append(proximo_numero)\n",
    "if numero in fibonacci:\n",
    "    print(\"O número {} pertence a sequecia de Fibonacci\".format(numero))\n",
    "else:\n",
    "     print(\"O número {} não pertence a sequecia de Fibonacci\".format(numero))\n"
   ]
  },
  {
   "cell_type": "code",
   "execution_count": 3,
   "metadata": {},
   "outputs": [
    {
     "name": "stdout",
     "output_type": "stream",
     "text": [
      "[ 537 3892 3307 2250 2221 4307  521 3517 1087  561 2679 4880 3705 3829\n",
      " 3615 3951 2614  727 4214 2306 2551 1916  994 4641 3929 3254 2071 4131\n",
      " 2772 2272]\n"
     ]
    }
   ],
   "source": [
    "### Exercicio 3 ###\n",
    "\n",
    "### Gerar um banco de dados ###\n",
    "import numpy as np\n",
    "rng = np.random.default_rng(seed=42)\n",
    "\n",
    "faturamento_diario = rng.integers(low=100 , high=5000, size=30)\n",
    "print(faturamento_diario)\n"
   ]
  },
  {
   "cell_type": "code",
   "execution_count": 4,
   "metadata": {},
   "outputs": [
    {
     "name": "stdout",
     "output_type": "stream",
     "text": [
      "O maior valor de faturamento diário foi de R$4880 e o menor foi de R$521\n"
     ]
    }
   ],
   "source": [
    "maior_valor_faturamento = np.max(faturamento_diario)\n",
    "menor_valor_faturamento = np.min(faturamento_diario)\n",
    "print(\"O maior valor de faturamento diário foi de R${} e o menor foi de R${}\".format(maior_valor_faturamento, menor_valor_faturamento))"
   ]
  },
  {
   "cell_type": "code",
   "execution_count": 17,
   "metadata": {},
   "outputs": [
    {
     "name": "stdout",
     "output_type": "stream",
     "text": [
      "O faturamento percentual da cidade de SP foi de 37.53%\n",
      "O faturamento percentual da cidade de RJ foi de 20.29%\n",
      "O faturamento percentual da cidade de MG foi de 16.17%\n",
      "O faturamento percentual da cidade de ES foi de 15.03%\n",
      "O faturamento percentual da cidade de Outros foi de 10.98%\n"
     ]
    }
   ],
   "source": [
    "### Exercicio 4 ###\n",
    "\n",
    "#SP R$67.836,43\n",
    "#RJ R$36.678,66\n",
    "#MG R$29.229,88\n",
    "#ES R$27.165,48\n",
    "#Outros R$19.849,53\n",
    "\n",
    "estados = [\"SP\", \"RJ\", \"MG\", \"ES\", \"Outros\"]\n",
    "faturamento_mensal = [67836.43, 36678.66, 29229.88, 27165.48, 19849.53]\n",
    "faturamento_mensal_distribuidora =  np.sum(faturamento_mensal)\n",
    "\n",
    "\n",
    "for i, faturamento in enumerate(faturamento_mensal):\n",
    "    faturamento_percentual = faturamento_mensal / (faturamento_mensal_distribuidora / 100)\n",
    "    print(f\"O faturamento percentual da cidade de {estados[i]} foi de {faturamento_percentual[i]:.2f}%\")\n"
   ]
  },
  {
   "cell_type": "code",
   "execution_count": 20,
   "metadata": {},
   "outputs": [
    {
     "name": "stdout",
     "output_type": "stream",
     "text": [
      "Palavra Orginal: Vasco\n",
      "ocsaV\n",
      "ocsaV\n"
     ]
    }
   ],
   "source": [
    "### Exercicio 5 ###\n",
    "\n",
    "\n",
    "palavra = input(\"Digite uma palavra:\")\n",
    "print(f\"Palavra Orginal: {palavra}\")\n",
    "\n",
    "palavra_invertida_1 = palavra[::-1]\n",
    "print(palavra_invertida_1)\n",
    "\n",
    "palavra_invertida_2 = ''\n",
    "for i in range(len(palavra)-1,-1,-1):\n",
    "    palavra_invertida_2 = palavra_invertida_2 + palavra[i]\n",
    "print(palavra_invertida_2)"
   ]
  },
  {
   "cell_type": "code",
   "execution_count": null,
   "metadata": {},
   "outputs": [],
   "source": []
  }
 ],
 "metadata": {
  "kernelspec": {
   "display_name": "base",
   "language": "python",
   "name": "python3"
  },
  "language_info": {
   "codemirror_mode": {
    "name": "ipython",
    "version": 3
   },
   "file_extension": ".py",
   "mimetype": "text/x-python",
   "name": "python",
   "nbconvert_exporter": "python",
   "pygments_lexer": "ipython3",
   "version": "3.11.7"
  }
 },
 "nbformat": 4,
 "nbformat_minor": 2
}
